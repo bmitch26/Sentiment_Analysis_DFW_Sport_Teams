{
 "cells": [
  {
   "cell_type": "code",
   "execution_count": 16,
   "id": "1c51ab32",
   "metadata": {},
   "outputs": [
    {
     "name": "stdout",
     "output_type": "stream",
     "text": [
      "C:\\Users\\brtm2\n",
      "Current working directory: C:\\Users\\brtm2\n"
     ]
    }
   ],
   "source": [
    "import pandas as pd\n",
    "import nltk\n",
    "from nltk.sentiment import SentimentIntensityAnalyzer\n",
    "from nltk.tokenize import word_tokenize\n",
    "import re\n",
    "import os\n",
    "\n",
    "# Check my current working directory and change the csv file path\n",
    "print(os.getcwd())\n",
    "downloads_path = r'C:\\Users\\brtm2'\n",
    "os.chdir(downloads_path)\n",
    "print(\"Current working directory:\", os.getcwd())"
   ]
  },
  {
   "cell_type": "code",
   "execution_count": 17,
   "id": "89af68b8",
   "metadata": {},
   "outputs": [
    {
     "data": {
      "text/html": [
       "<div>\n",
       "<style scoped>\n",
       "    .dataframe tbody tr th:only-of-type {\n",
       "        vertical-align: middle;\n",
       "    }\n",
       "\n",
       "    .dataframe tbody tr th {\n",
       "        vertical-align: top;\n",
       "    }\n",
       "\n",
       "    .dataframe thead th {\n",
       "        text-align: right;\n",
       "    }\n",
       "</style>\n",
       "<table border=\"1\" class=\"dataframe\">\n",
       "  <thead>\n",
       "    <tr style=\"text-align: right;\">\n",
       "      <th></th>\n",
       "      <th>comment_body</th>\n",
       "    </tr>\n",
       "  </thead>\n",
       "  <tbody>\n",
       "    <tr>\n",
       "      <th>0</th>\n",
       "      <td>Which is kind of a weird thing to say when Jer...</td>\n",
       "    </tr>\n",
       "    <tr>\n",
       "      <th>1</th>\n",
       "      <td>https://preview.redd.it/ocknt98prghc1.jpeg?wid...</td>\n",
       "    </tr>\n",
       "    <tr>\n",
       "      <th>2</th>\n",
       "      <td>Phenomenal hire. This is the type of person th...</td>\n",
       "    </tr>\n",
       "    <tr>\n",
       "      <th>3</th>\n",
       "      <td>I miss him.</td>\n",
       "    </tr>\n",
       "    <tr>\n",
       "      <th>4</th>\n",
       "      <td>Great defensive mind, he took over in Minnesot...</td>\n",
       "    </tr>\n",
       "  </tbody>\n",
       "</table>\n",
       "</div>"
      ],
      "text/plain": [
       "                                        comment_body\n",
       "0  Which is kind of a weird thing to say when Jer...\n",
       "1  https://preview.redd.it/ocknt98prghc1.jpeg?wid...\n",
       "2  Phenomenal hire. This is the type of person th...\n",
       "3                                        I miss him.\n",
       "4  Great defensive mind, he took over in Minnesot..."
      ]
     },
     "execution_count": 17,
     "metadata": {},
     "output_type": "execute_result"
    }
   ],
   "source": [
    "# Read in team csv files\n",
    "rangers_comments_df = pd.read_csv('rangers_comments_sentiment_analysis')\n",
    "cowboys_comments_df = pd.read_csv(r'C:\\Users\\brtm2\\cowboys_comments_sentiment_analysis')\n",
    "mavericks_comments_df = pd.read_csv(r'C:\\Users\\brtm2\\mavericks_comments_sentiment_analysis')\n",
    "\n",
    "cowboys_comments_df.head()"
   ]
  },
  {
   "cell_type": "code",
   "execution_count": 22,
   "id": "b9d8ab8c",
   "metadata": {},
   "outputs": [
    {
     "data": {
      "text/html": [
       "<div>\n",
       "<style scoped>\n",
       "    .dataframe tbody tr th:only-of-type {\n",
       "        vertical-align: middle;\n",
       "    }\n",
       "\n",
       "    .dataframe tbody tr th {\n",
       "        vertical-align: top;\n",
       "    }\n",
       "\n",
       "    .dataframe thead th {\n",
       "        text-align: right;\n",
       "    }\n",
       "</style>\n",
       "<table border=\"1\" class=\"dataframe\">\n",
       "  <thead>\n",
       "    <tr style=\"text-align: right;\">\n",
       "      <th></th>\n",
       "      <th>comment_body</th>\n",
       "      <th>processed_comment</th>\n",
       "    </tr>\n",
       "  </thead>\n",
       "  <tbody>\n",
       "    <tr>\n",
       "      <th>0</th>\n",
       "      <td>Which is kind of a weird thing to say when Jer...</td>\n",
       "      <td>which is kind of a weird thing to say when jer...</td>\n",
       "    </tr>\n",
       "    <tr>\n",
       "      <th>1</th>\n",
       "      <td>https://preview.redd.it/ocknt98prghc1.jpeg?wid...</td>\n",
       "      <td></td>\n",
       "    </tr>\n",
       "    <tr>\n",
       "      <th>2</th>\n",
       "      <td>Phenomenal hire. This is the type of person th...</td>\n",
       "      <td>phenomenal hire this is the type of person thi...</td>\n",
       "    </tr>\n",
       "    <tr>\n",
       "      <th>3</th>\n",
       "      <td>I miss him.</td>\n",
       "      <td>i miss him</td>\n",
       "    </tr>\n",
       "    <tr>\n",
       "      <th>4</th>\n",
       "      <td>Great defensive mind, he took over in Minnesot...</td>\n",
       "      <td>great defensive mind he took over in minnesota...</td>\n",
       "    </tr>\n",
       "  </tbody>\n",
       "</table>\n",
       "</div>"
      ],
      "text/plain": [
       "                                        comment_body  \\\n",
       "0  Which is kind of a weird thing to say when Jer...   \n",
       "1  https://preview.redd.it/ocknt98prghc1.jpeg?wid...   \n",
       "2  Phenomenal hire. This is the type of person th...   \n",
       "3                                        I miss him.   \n",
       "4  Great defensive mind, he took over in Minnesot...   \n",
       "\n",
       "                                   processed_comment  \n",
       "0  which is kind of a weird thing to say when jer...  \n",
       "1                                                     \n",
       "2  phenomenal hire this is the type of person thi...  \n",
       "3                                         i miss him  \n",
       "4  great defensive mind he took over in minnesota...  "
      ]
     },
     "execution_count": 22,
     "metadata": {},
     "output_type": "execute_result"
    }
   ],
   "source": [
    "# Function to preprocess comments\n",
    "def preprocess_text(text):\n",
    "    # Lowercase text\n",
    "    text = text.lower()\n",
    "    # Use regex to remove URLs and special characters/numbers\n",
    "    text = re.sub(r'http\\S+', '', text)  # Remove URLs\n",
    "    text = re.sub(r'[^a-zA-Z\\s]', '', text)  # Remove special characters and numbers\n",
    "    # Tokenize text\n",
    "    tokens = word_tokenize(text)\n",
    "    # Join tokens back to a single string\n",
    "    processed_text = ' '.join(tokens)\n",
    "    return processed_text\n",
    "\n",
    "# Apply the preprocessing function to each comment in your DataFrames\n",
    "rangers_comments_df['processed_comment'] = rangers_comments_df['comment_body'].apply(preprocess_text)\n",
    "cowboys_comments_df['processed_comment'] = cowboys_comments_df['comment_body'].apply(preprocess_text)\n",
    "mavericks_comments_df['processed_comment'] = mavericks_comments_df['comment_body'].apply(preprocess_text)\n",
    "\n",
    "cowboys_comments_df.head()"
   ]
  },
  {
   "cell_type": "code",
   "execution_count": 24,
   "id": "3ef0c0e9",
   "metadata": {},
   "outputs": [
    {
     "data": {
      "text/plain": [
       "(29818, 2)"
      ]
     },
     "execution_count": 24,
     "metadata": {},
     "output_type": "execute_result"
    }
   ],
   "source": [
    "cowboys_comments_df.shape"
   ]
  },
  {
   "cell_type": "code",
   "execution_count": 42,
   "id": "bde6143e",
   "metadata": {},
   "outputs": [],
   "source": [
    "# Filter out rows where 'processed_comment' is empty for each DataFrame\n",
    "rangers_comments_df = rangers_comments_df[rangers_comments_df['processed_comment'] != '']\n",
    "cowboys_comments_df = cowboys_comments_df[cowboys_comments_df['processed_comment'] != '']\n",
    "mavericks_comments_df = mavericks_comments_df[mavericks_comments_df['processed_comment'] != '']"
   ]
  },
  {
   "cell_type": "code",
   "execution_count": 45,
   "id": "c3c18459",
   "metadata": {
    "scrolled": true
   },
   "outputs": [
    {
     "name": "stdout",
     "output_type": "stream",
     "text": [
      "(29551, 2)\n"
     ]
    },
    {
     "data": {
      "text/html": [
       "<div>\n",
       "<style scoped>\n",
       "    .dataframe tbody tr th:only-of-type {\n",
       "        vertical-align: middle;\n",
       "    }\n",
       "\n",
       "    .dataframe tbody tr th {\n",
       "        vertical-align: top;\n",
       "    }\n",
       "\n",
       "    .dataframe thead th {\n",
       "        text-align: right;\n",
       "    }\n",
       "</style>\n",
       "<table border=\"1\" class=\"dataframe\">\n",
       "  <thead>\n",
       "    <tr style=\"text-align: right;\">\n",
       "      <th></th>\n",
       "      <th>comment_body</th>\n",
       "      <th>processed_comment</th>\n",
       "    </tr>\n",
       "  </thead>\n",
       "  <tbody>\n",
       "    <tr>\n",
       "      <th>0</th>\n",
       "      <td>Which is kind of a weird thing to say when Jer...</td>\n",
       "      <td>which is kind of a weird thing to say when jer...</td>\n",
       "    </tr>\n",
       "    <tr>\n",
       "      <th>2</th>\n",
       "      <td>Phenomenal hire. This is the type of person th...</td>\n",
       "      <td>phenomenal hire this is the type of person thi...</td>\n",
       "    </tr>\n",
       "    <tr>\n",
       "      <th>3</th>\n",
       "      <td>I miss him.</td>\n",
       "      <td>i miss him</td>\n",
       "    </tr>\n",
       "    <tr>\n",
       "      <th>4</th>\n",
       "      <td>Great defensive mind, he took over in Minnesot...</td>\n",
       "      <td>great defensive mind he took over in minnesota...</td>\n",
       "    </tr>\n",
       "    <tr>\n",
       "      <th>5</th>\n",
       "      <td>Good with this, especially since it seems unli...</td>\n",
       "      <td>good with this especially since it seems unlik...</td>\n",
       "    </tr>\n",
       "  </tbody>\n",
       "</table>\n",
       "</div>"
      ],
      "text/plain": [
       "                                        comment_body  \\\n",
       "0  Which is kind of a weird thing to say when Jer...   \n",
       "2  Phenomenal hire. This is the type of person th...   \n",
       "3                                        I miss him.   \n",
       "4  Great defensive mind, he took over in Minnesot...   \n",
       "5  Good with this, especially since it seems unli...   \n",
       "\n",
       "                                   processed_comment  \n",
       "0  which is kind of a weird thing to say when jer...  \n",
       "2  phenomenal hire this is the type of person thi...  \n",
       "3                                         i miss him  \n",
       "4  great defensive mind he took over in minnesota...  \n",
       "5  good with this especially since it seems unlik...  "
      ]
     },
     "execution_count": 45,
     "metadata": {},
     "output_type": "execute_result"
    }
   ],
   "source": [
    "print(cowboys_comments_df.shape)\n",
    "cowboys_comments_df.head()"
   ]
  },
  {
   "cell_type": "code",
   "execution_count": null,
   "id": "24f20898",
   "metadata": {
    "collapsed": true
   },
   "outputs": [],
   "source": [
    "# Initialize VADER SentimentIntensityAnalyzer\n",
    "sia = SentimentIntensityAnalyzer()\n",
    "\n",
    "# Function to calculate sentiment scores\n",
    "def calc_sa_scores(comment):\n",
    "    return sia.polarity_scores(comment)['compound']\n",
    "\n",
    "# Function to categorize sentiment based on the compound score\n",
    "def categorize(score):\n",
    "    if score > 0.05:\n",
    "        return 'Positive'\n",
    "    elif score < -0.05:\n",
    "        return 'Negative'\n",
    "    else:\n",
    "        return 'Neutral'\n",
    "\n",
    "# Function to apply sentiment analysis on a DataFrame\n",
    "def apply_sa(car_df):\n",
    "    # Calculate sentiment scores\n",
    "    car_df['sentiment_score'] = car_df['processed_comment'].apply(calc_sa_scores)\n",
    "    # Categorize sentiment\n",
    "    car_df['sentiment_category'] = car_df['sentiment_score'].apply(categorize)\n",
    "    return car_df\n",
    "\n",
    "# Apply sentiment analysis to each DataFrame\n",
    "rangers_comments_df = apply_sa(rangers_comments_df)\n",
    "cowboys_comments_df = apply_sa(cowboys_comments_df)\n",
    "mavericks_comments_df = apply_sa(mavericks_comments_df)"
   ]
  },
  {
   "cell_type": "code",
   "execution_count": 47,
   "id": "3ba2d459",
   "metadata": {},
   "outputs": [
    {
     "data": {
      "text/html": [
       "<div>\n",
       "<style scoped>\n",
       "    .dataframe tbody tr th:only-of-type {\n",
       "        vertical-align: middle;\n",
       "    }\n",
       "\n",
       "    .dataframe tbody tr th {\n",
       "        vertical-align: top;\n",
       "    }\n",
       "\n",
       "    .dataframe thead th {\n",
       "        text-align: right;\n",
       "    }\n",
       "</style>\n",
       "<table border=\"1\" class=\"dataframe\">\n",
       "  <thead>\n",
       "    <tr style=\"text-align: right;\">\n",
       "      <th></th>\n",
       "      <th>comment_body</th>\n",
       "      <th>processed_comment</th>\n",
       "      <th>sentiment_score</th>\n",
       "      <th>sentiment_category</th>\n",
       "    </tr>\n",
       "  </thead>\n",
       "  <tbody>\n",
       "    <tr>\n",
       "      <th>0</th>\n",
       "      <td>Which is kind of a weird thing to say when Jer...</td>\n",
       "      <td>which is kind of a weird thing to say when jer...</td>\n",
       "      <td>-0.2484</td>\n",
       "      <td>Negative</td>\n",
       "    </tr>\n",
       "    <tr>\n",
       "      <th>2</th>\n",
       "      <td>Phenomenal hire. This is the type of person th...</td>\n",
       "      <td>phenomenal hire this is the type of person thi...</td>\n",
       "      <td>-0.5994</td>\n",
       "      <td>Negative</td>\n",
       "    </tr>\n",
       "    <tr>\n",
       "      <th>3</th>\n",
       "      <td>I miss him.</td>\n",
       "      <td>i miss him</td>\n",
       "      <td>-0.1531</td>\n",
       "      <td>Negative</td>\n",
       "    </tr>\n",
       "    <tr>\n",
       "      <th>4</th>\n",
       "      <td>Great defensive mind, he took over in Minnesot...</td>\n",
       "      <td>great defensive mind he took over in minnesota...</td>\n",
       "      <td>0.7906</td>\n",
       "      <td>Positive</td>\n",
       "    </tr>\n",
       "    <tr>\n",
       "      <th>5</th>\n",
       "      <td>Good with this, especially since it seems unli...</td>\n",
       "      <td>good with this especially since it seems unlik...</td>\n",
       "      <td>0.6997</td>\n",
       "      <td>Positive</td>\n",
       "    </tr>\n",
       "  </tbody>\n",
       "</table>\n",
       "</div>"
      ],
      "text/plain": [
       "                                        comment_body  \\\n",
       "0  Which is kind of a weird thing to say when Jer...   \n",
       "2  Phenomenal hire. This is the type of person th...   \n",
       "3                                        I miss him.   \n",
       "4  Great defensive mind, he took over in Minnesot...   \n",
       "5  Good with this, especially since it seems unli...   \n",
       "\n",
       "                                   processed_comment  sentiment_score  \\\n",
       "0  which is kind of a weird thing to say when jer...          -0.2484   \n",
       "2  phenomenal hire this is the type of person thi...          -0.5994   \n",
       "3                                         i miss him          -0.1531   \n",
       "4  great defensive mind he took over in minnesota...           0.7906   \n",
       "5  good with this especially since it seems unlik...           0.6997   \n",
       "\n",
       "  sentiment_category  \n",
       "0           Negative  \n",
       "2           Negative  \n",
       "3           Negative  \n",
       "4           Positive  \n",
       "5           Positive  "
      ]
     },
     "execution_count": 47,
     "metadata": {},
     "output_type": "execute_result"
    }
   ],
   "source": [
    "# Display the head of each DataFrame to verify the results\n",
    "cowboys_comments_df.head()"
   ]
  },
  {
   "cell_type": "code",
   "execution_count": 48,
   "id": "f36edb5f",
   "metadata": {},
   "outputs": [],
   "source": [
    "# Save the updated DataFrame to CSV file\n",
    "rangers_comments_df.to_csv('rangers_scores.csv', index=False)\n",
    "cowboys_comments_df.to_csv('cowboys_scores.csv', index=False)\n",
    "mavericks_comments_df.to_csv('mavericks_scores.csv', index=False)"
   ]
  }
 ],
 "metadata": {
  "kernelspec": {
   "display_name": "Python 3 (ipykernel)",
   "language": "python",
   "name": "python3"
  },
  "language_info": {
   "codemirror_mode": {
    "name": "ipython",
    "version": 3
   },
   "file_extension": ".py",
   "mimetype": "text/x-python",
   "name": "python",
   "nbconvert_exporter": "python",
   "pygments_lexer": "ipython3",
   "version": "3.11.4"
  }
 },
 "nbformat": 4,
 "nbformat_minor": 5
}
