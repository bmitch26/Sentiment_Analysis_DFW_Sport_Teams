{
 "cells": [
  {
   "cell_type": "code",
   "execution_count": 1,
   "id": "a110bed5",
   "metadata": {},
   "outputs": [
    {
     "name": "stderr",
     "output_type": "stream",
     "text": [
      "C:\\Users\\brtm2\\anaconda3\\Lib\\site-packages\\transformers\\utils\\generic.py:441: UserWarning: torch.utils._pytree._register_pytree_node is deprecated. Please use torch.utils._pytree.register_pytree_node instead.\n",
      "  _torch_pytree._register_pytree_node(\n"
     ]
    },
    {
     "name": "stdout",
     "output_type": "stream",
     "text": [
      "WARNING:tensorflow:From C:\\Users\\brtm2\\anaconda3\\Lib\\site-packages\\keras\\src\\losses.py:2976: The name tf.losses.sparse_softmax_cross_entropy is deprecated. Please use tf.compat.v1.losses.sparse_softmax_cross_entropy instead.\n",
      "\n"
     ]
    },
    {
     "name": "stderr",
     "output_type": "stream",
     "text": [
      "C:\\Users\\brtm2\\anaconda3\\Lib\\site-packages\\transformers\\utils\\generic.py:309: UserWarning: torch.utils._pytree._register_pytree_node is deprecated. Please use torch.utils._pytree.register_pytree_node instead.\n",
      "  _torch_pytree._register_pytree_node(\n"
     ]
    },
    {
     "data": {
      "application/vnd.jupyter.widget-view+json": {
       "model_id": "57369e7179304e2ca00e6c0bf9762e22",
       "version_major": 2,
       "version_minor": 0
      },
      "text/plain": [
       "pytorch_model.bin:   0%|          | 0.00/499M [00:00<?, ?B/s]"
      ]
     },
     "metadata": {},
     "output_type": "display_data"
    },
    {
     "name": "stderr",
     "output_type": "stream",
     "text": [
      "C:\\Users\\brtm2\\anaconda3\\Lib\\site-packages\\huggingface_hub\\file_download.py:147: UserWarning: `huggingface_hub` cache-system uses symlinks by default to efficiently store duplicated files but your machine does not support them in C:\\Users\\brtm2\\.cache\\huggingface\\hub. Caching files will still work but in a degraded version that might require more space on your disk. This warning can be disabled by setting the `HF_HUB_DISABLE_SYMLINKS_WARNING` environment variable. For more details, see https://huggingface.co/docs/huggingface_hub/how-to-cache#limitations.\n",
      "To support symlinks on Windows, you either need to activate Developer Mode or to run Python as an administrator. In order to see activate developer mode, see this article: https://docs.microsoft.com/en-us/windows/apps/get-started/enable-your-device-for-development\n",
      "  warnings.warn(message)\n",
      "Analyzing Sentiments: 100%|██████████| 9245/9245 [28:41<00:00,  5.37it/s]  \n",
      "Analyzing Sentiments: 100%|██████████| 29818/29818 [1:35:37<00:00,  5.20it/s]  \n",
      "Analyzing Sentiments: 100%|██████████| 21875/21875 [1:10:02<00:00,  5.21it/s]\n"
     ]
    }
   ],
   "source": [
    "from transformers import pipeline, AutoTokenizer\n",
    "import pandas as pd\n",
    "from tqdm import tqdm # For progress bar\n",
    "\n",
    "# Load the tokenizer and the sentiment analysis pipeline\n",
    "tokenizer = AutoTokenizer.from_pretrained(\"cardiffnlp/twitter-roberta-base-sentiment\")\n",
    "sentiment_pipeline = pipeline(\"sentiment-analysis\", model=\"cardiffnlp/twitter-roberta-base-sentiment\")\n",
    "\n",
    "# Function to perform sentiment analysis with proper truncation\n",
    "def analyze_sentiment(dataframe):\n",
    "    sentiments = []\n",
    "    scores = []\n",
    "    for comment in tqdm(dataframe['comment_body'], desc=\"Analyzing Sentiments\"):\n",
    "        # Let the tokenizer handle truncation to the max model length\n",
    "        inputs = tokenizer(comment, return_tensors='pt', truncation=True, max_length=512)\n",
    "        # Convert tokenized input to text format for the pipeline\n",
    "        truncated_text = tokenizer.decode(inputs['input_ids'][0], skip_special_tokens=True)\n",
    "        result = sentiment_pipeline(truncated_text)\n",
    "        sentiment_result = result[0]['label']\n",
    "        score = result[0]['score']\n",
    "        sentiments.append(sentiment_result)\n",
    "        scores.append(score)\n",
    "    # Add the sentiment analysis results and scores to the dataframe\n",
    "    dataframe['sentiment'] = sentiments\n",
    "    dataframe['score'] = scores\n",
    "    return dataframe\n",
    "\n",
    "# Assuming your datasets are loaded here\n",
    "rdf = pd.read_csv('rangers_comments_sentiment_analysis')\n",
    "cdf = pd.read_csv('cowboys_comments_sentiment_analysis')\n",
    "mdf = pd.read_csv('mavericks_comments_sentiment_analysis')\n",
    "\n",
    "# Analyze sentiment for each dataset and add scores\n",
    "rangers_df = analyze_sentiment(rdf)\n",
    "cowboys_df = analyze_sentiment(cdf)\n",
    "mavericks_df = analyze_sentiment(mdf)"
   ]
  },
  {
   "cell_type": "code",
   "execution_count": 2,
   "id": "11c311a3",
   "metadata": {},
   "outputs": [
    {
     "data": {
      "text/html": [
       "<div>\n",
       "<style scoped>\n",
       "    .dataframe tbody tr th:only-of-type {\n",
       "        vertical-align: middle;\n",
       "    }\n",
       "\n",
       "    .dataframe tbody tr th {\n",
       "        vertical-align: top;\n",
       "    }\n",
       "\n",
       "    .dataframe thead th {\n",
       "        text-align: right;\n",
       "    }\n",
       "</style>\n",
       "<table border=\"1\" class=\"dataframe\">\n",
       "  <thead>\n",
       "    <tr style=\"text-align: right;\">\n",
       "      <th></th>\n",
       "      <th>comment_body</th>\n",
       "      <th>sentiment</th>\n",
       "      <th>score</th>\n",
       "    </tr>\n",
       "  </thead>\n",
       "  <tbody>\n",
       "    <tr>\n",
       "      <th>0</th>\n",
       "      <td>14 1/2 minutes of pure sex</td>\n",
       "      <td>LABEL_1</td>\n",
       "      <td>0.763947</td>\n",
       "    </tr>\n",
       "    <tr>\n",
       "      <th>1</th>\n",
       "      <td>14 minutes…I’m not going to wa- OH I REMEMBER ...</td>\n",
       "      <td>LABEL_1</td>\n",
       "      <td>0.513736</td>\n",
       "    </tr>\n",
       "    <tr>\n",
       "      <th>2</th>\n",
       "      <td>Those Garcia HRs hit harder today</td>\n",
       "      <td>LABEL_1</td>\n",
       "      <td>0.758604</td>\n",
       "    </tr>\n",
       "    <tr>\n",
       "      <th>3</th>\n",
       "      <td>Crazy he is just 35. Older yes but to think he...</td>\n",
       "      <td>LABEL_1</td>\n",
       "      <td>0.549139</td>\n",
       "    </tr>\n",
       "    <tr>\n",
       "      <th>4</th>\n",
       "      <td>Man, it was fun watching this guy just throw c...</td>\n",
       "      <td>LABEL_2</td>\n",
       "      <td>0.911701</td>\n",
       "    </tr>\n",
       "  </tbody>\n",
       "</table>\n",
       "</div>"
      ],
      "text/plain": [
       "                                        comment_body sentiment     score\n",
       "0                         14 1/2 minutes of pure sex   LABEL_1  0.763947\n",
       "1  14 minutes…I’m not going to wa- OH I REMEMBER ...   LABEL_1  0.513736\n",
       "2                  Those Garcia HRs hit harder today   LABEL_1  0.758604\n",
       "3  Crazy he is just 35. Older yes but to think he...   LABEL_1  0.549139\n",
       "4  Man, it was fun watching this guy just throw c...   LABEL_2  0.911701"
      ]
     },
     "execution_count": 2,
     "metadata": {},
     "output_type": "execute_result"
    }
   ],
   "source": [
    "rangers_df.head()"
   ]
  },
  {
   "cell_type": "code",
   "execution_count": 10,
   "id": "0beb1642",
   "metadata": {},
   "outputs": [
    {
     "data": {
      "text/html": [
       "<div>\n",
       "<style scoped>\n",
       "    .dataframe tbody tr th:only-of-type {\n",
       "        vertical-align: middle;\n",
       "    }\n",
       "\n",
       "    .dataframe tbody tr th {\n",
       "        vertical-align: top;\n",
       "    }\n",
       "\n",
       "    .dataframe thead th {\n",
       "        text-align: right;\n",
       "    }\n",
       "</style>\n",
       "<table border=\"1\" class=\"dataframe\">\n",
       "  <thead>\n",
       "    <tr style=\"text-align: right;\">\n",
       "      <th></th>\n",
       "      <th>comment_body</th>\n",
       "      <th>sentiment</th>\n",
       "      <th>score</th>\n",
       "    </tr>\n",
       "  </thead>\n",
       "  <tbody>\n",
       "    <tr>\n",
       "      <th>0</th>\n",
       "      <td>14 1/2 minutes of pure sex</td>\n",
       "      <td>Neutral</td>\n",
       "      <td>0.763947</td>\n",
       "    </tr>\n",
       "    <tr>\n",
       "      <th>1</th>\n",
       "      <td>14 minutes…I’m not going to wa- OH I REMEMBER ...</td>\n",
       "      <td>Neutral</td>\n",
       "      <td>0.513736</td>\n",
       "    </tr>\n",
       "    <tr>\n",
       "      <th>2</th>\n",
       "      <td>Those Garcia HRs hit harder today</td>\n",
       "      <td>Neutral</td>\n",
       "      <td>0.758604</td>\n",
       "    </tr>\n",
       "    <tr>\n",
       "      <th>3</th>\n",
       "      <td>Crazy he is just 35. Older yes but to think he...</td>\n",
       "      <td>Neutral</td>\n",
       "      <td>0.549139</td>\n",
       "    </tr>\n",
       "    <tr>\n",
       "      <th>4</th>\n",
       "      <td>Man, it was fun watching this guy just throw c...</td>\n",
       "      <td>Positive</td>\n",
       "      <td>0.911701</td>\n",
       "    </tr>\n",
       "  </tbody>\n",
       "</table>\n",
       "</div>"
      ],
      "text/plain": [
       "                                        comment_body sentiment     score\n",
       "0                         14 1/2 minutes of pure sex   Neutral  0.763947\n",
       "1  14 minutes…I’m not going to wa- OH I REMEMBER ...   Neutral  0.513736\n",
       "2                  Those Garcia HRs hit harder today   Neutral  0.758604\n",
       "3  Crazy he is just 35. Older yes but to think he...   Neutral  0.549139\n",
       "4  Man, it was fun watching this guy just throw c...  Positive  0.911701"
      ]
     },
     "execution_count": 10,
     "metadata": {},
     "output_type": "execute_result"
    }
   ],
   "source": [
    "rangers_df['sentiment'] = rangers_df['sentiment'].replace({'LABEL_0': 'Negative', 'LABEL_1': 'Neutral', 'LABEL_2': 'Positive'})\n",
    "cowboys_df['sentiment'] = mavericks_df['sentiment'].replace({'LABEL_0': 'Negative', 'LABEL_1': 'Neutral', 'LABEL_2': 'Positive'})\n",
    "mavericks_df['sentiment'] = mavericks_df['sentiment'].replace({'LABEL_0': 'Negative', 'LABEL_1': 'Neutral', 'LABEL_2': 'Positive'})\n",
    "rangers_df.head()"
   ]
  },
  {
   "cell_type": "code",
   "execution_count": 12,
   "id": "2f32c953",
   "metadata": {},
   "outputs": [],
   "source": [
    "rangers_df.to_csv('bert_rangers_scores.csv', index=False)\n",
    "cowboys_df.to_csv('bert_cowboys_scores.csv', index=False)\n",
    "mavericks_df.to_csv('bert_mavericks_scores.csv', index=False)"
   ]
  }
 ],
 "metadata": {
  "kernelspec": {
   "display_name": "Python 3 (ipykernel)",
   "language": "python",
   "name": "python3"
  },
  "language_info": {
   "codemirror_mode": {
    "name": "ipython",
    "version": 3
   },
   "file_extension": ".py",
   "mimetype": "text/x-python",
   "name": "python",
   "nbconvert_exporter": "python",
   "pygments_lexer": "ipython3",
   "version": "3.11.4"
  }
 },
 "nbformat": 4,
 "nbformat_minor": 5
}
